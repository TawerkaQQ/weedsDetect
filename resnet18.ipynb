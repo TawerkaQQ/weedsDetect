{
 "cells": [
  {
   "cell_type": "code",
   "execution_count": 4,
   "id": "3fec43c9-bfa9-4b13-9578-cc9d591f0c08",
   "metadata": {
    "tags": []
   },
   "outputs": [
    {
     "name": "stdout",
     "output_type": "stream",
     "text": [
      "suck some dick\n",
      "dict_keys(['epoch', 'model', 'optimizer'])\n"
     ]
    },
    {
     "data": {
      "text/plain": [
       "6"
      ]
     },
     "execution_count": 4,
     "metadata": {},
     "output_type": "execute_result"
    }
   ],
   "source": [
    "from utils import load_model\n",
    "from torchvision.models import resnet18\n",
    "filename = 'resNet18_test_1_weights_best_acc.tar'\n",
    "use_gpu = False\n",
    "model = resnet18(num_classes=2) # num classes\n",
    "load_model(model, filename=filename, use_gpu=use_gpu)"
   ]
  },
  {
   "cell_type": "code",
   "execution_count": 12,
   "id": "b4cddb8b-7eb5-4c21-8e5e-cbe7da9c6370",
   "metadata": {
    "tags": []
   },
   "outputs": [
    {
     "name": "stdout",
     "output_type": "stream",
     "text": [
      "{'class': '1800000', 'percent': '91.47274017333984', 'image': 'a2.jpeg', 'okay': 'bad ending'}\n",
      "{'class': '1800000', 'percent': '90.9134750366211', 'image': 'a6.jpeg', 'okay': 'bad ending'}\n",
      "{'class': '1800000', 'percent': '87.30628204345703', 'image': 'photo_5427045595358546909_y.jpg', 'okay': 'bad ending'}\n",
      "{'class': '1800000', 'percent': '88.28433990478516', 'image': 'a1.jpeg', 'okay': 'bad ending'}\n",
      "{'class': '1800000', 'percent': '87.22345733642578', 'image': 'photo_5427045595358546900_y.jpg', 'okay': 'bad ending'}\n",
      "{'class': '1800000', 'percent': '89.47489929199219', 'image': 'photo_5427045595358546898_y.jpg', 'okay': 'bad ending'}\n",
      "{'class': '1800000', 'percent': '89.22216033935547', 'image': 'photo_5427045595358546905_y.jpg', 'okay': 'bad ending'}\n",
      "{'class': '1800000', 'percent': '88.62489318847656', 'image': 'a4.jpeg', 'okay': 'bad ending'}\n",
      "{'class': '1800000', 'percent': '89.42047119140625', 'image': 'photo_5427045595358546903_y.jpg', 'okay': 'bad ending'}\n",
      "{'class': '1800000', 'percent': '87.13356018066406', 'image': 'photo_5427045595358546904_y.jpg', 'okay': 'bad ending'}\n",
      "{'class': '1800000', 'percent': '89.85234832763672', 'image': 'photo_5427045595358546908_y.jpg', 'okay': 'bad ending'}\n",
      "{'class': '1800000', 'percent': '86.35799407958984', 'image': 'photo_5427045595358546907_y.jpg', 'okay': 'bad ending'}\n",
      "{'class': '1800000', 'percent': '90.22747039794922', 'image': 'a3.jpeg', 'okay': 'bad ending'}\n",
      "{'class': '1800000', 'percent': '88.84479522705078', 'image': 'photo_5427045595358546914_y.jpg', 'okay': 'bad ending'}\n",
      "{'class': '1800000', 'percent': '90.3062744140625', 'image': 'a10.jpeg', 'okay': 'bad ending'}\n",
      "{'class': '1800000', 'percent': '87.96698760986328', 'image': 'photo_5427045595358546899_y.jpg', 'okay': 'bad ending'}\n",
      "{'class': '1800000', 'percent': '87.96289825439453', 'image': 'photo_5427045595358546906_y.jpg', 'okay': 'bad ending'}\n",
      "{'class': '1800000', 'percent': '91.22604370117188', 'image': 'a11.jpg', 'okay': 'bad ending'}\n",
      "{'class': '1800000', 'percent': '89.47207641601562', 'image': 'a8.jpeg', 'okay': 'bad ending'}\n",
      "{'class': '1800000', 'percent': '84.51898193359375', 'image': 'a5.jpeg', 'okay': 'bad ending'}\n",
      "{'class': '1800000', 'percent': '87.3795394897461', 'image': 'aa15.jpg', 'okay': 'bad ending'}\n",
      "{'class': '1800000', 'percent': '87.50659942626953', 'image': 'photo_5427045595358546913_y.jpg', 'okay': 'bad ending'}\n",
      "{'class': '1800000', 'percent': '88.09481811523438', 'image': 'photo_5427045595358546902_y.jpg', 'okay': 'bad ending'}\n",
      "{'class': '1800000', 'percent': '86.10396575927734', 'image': 'photo_5427045595358546901_y.jpg', 'okay': 'bad ending'}\n",
      "{'class': '1800000', 'percent': '88.57284545898438', 'image': 'a9.jpeg', 'okay': 'bad ending'}\n",
      "{'class': '1800000', 'percent': '91.72161102294922', 'image': 'a7.jpeg', 'okay': 'bad ending'}\n",
      "{'class': '1800000', 'percent': '86.49014282226562', 'image': 'photo_5427045595358546915_y.jpg', 'okay': 'bad ending'}\n",
      "Good:0\n",
      "Bad:27\n"
     ]
    }
   ],
   "source": [
    "from PIL import Image\n",
    "import torch\n",
    "from torchvision import transforms\n",
    "import os\n",
    "import numpy as np\n",
    "import PIL\n",
    "\n",
    "preprocess = transforms.Compose([\n",
    "            transforms.CenterCrop(1500),\n",
    "            transforms.Resize(224),\n",
    "            transforms.ToTensor(),\n",
    "            transforms.Normalize(\n",
    "            mean=[0.485, 0.456, 0.406],\n",
    "            std=[0.229, 0.224, 0.225])\n",
    "        ])\n",
    "folder = os.listdir(\"/dataset/testForREsNet18\")\n",
    "folder = [f for f in folder if os.path.isfile(\"/dataset/testForREsNet18\" + '/' + f)]\n",
    "\n",
    "pred = []\n",
    "cost = 0\n",
    "result = \"\"\n",
    "\n",
    "with open('className1.txt') as f:\n",
    "    for line in f.readlines():\n",
    "        result = line\n",
    "        \n",
    "result = result.split(',')\n",
    "len(result)\n",
    "\n",
    "counter = 0\n",
    "for image in folder:\n",
    "    # if (cost == 5):\n",
    "    #     break\n",
    "    # cost += 1 \n",
    "    img_ambr = Image.open(\"testForREsNet18/\" + image).convert('RGB')\n",
    "    # img_ambr.show()\n",
    "    # print(image)\n",
    "    img_ambr_preprocessed = preprocess(img_ambr)\n",
    "    # print(img_ambr_preprocessed)\n",
    "    # img_ambr_preprocessed.show()\n",
    "\n",
    "\n",
    "    batch_img_ambr_tensor = torch.unsqueeze(img_ambr_preprocessed, 0)\n",
    "    out = model(batch_img_ambr_tensor)\n",
    "\n",
    "    _, index = torch.max(out, 1)\n",
    "    percentage = torch.nn.functional.softmax(out, dim=1)[0]* 100\n",
    "    _, indices = torch.sort(out, descending=True)\n",
    "    # dict_res.append(result[index[0]])\n",
    "    # dict_res.append(percentage[index[0]].item())\n",
    "    \n",
    "    dict_res = {\"class\":[],\"percent\":[], \"image\":[], \"okay\":[]}\n",
    "    dict_res[\"class\"]=(str(result[index[0]]))\n",
    "    dict_res[\"percent\"]=(str(percentage[index[0]].item()))\n",
    "    dict_res[\"image\"]=(str(image))\n",
    "        \n",
    "    \n",
    "    if str(result[index[0]])[0] == str(image)[0] == 'a':\n",
    "        dict_res[\"okay\"]=\"good ending\"\n",
    "        counter+=1\n",
    "    else:\n",
    "        dict_res[\"okay\"]=\"bad ending\"\n",
    "    \n",
    "    pred.append(dict_res)\n",
    "\n",
    "for i in range(len(pred)):\n",
    "    print(pred[i])\n",
    "print(\"Good:\"+str(counter))\n",
    "print(\"Bad:\"+str(len(pred) - counter))\n",
    "\n",
    "# print(results)\n",
    "# print(len(Pred))"
   ]
  },
  {
   "cell_type": "code",
   "execution_count": 26,
   "id": "8f6a0ce5-c05b-49f6-a57d-295c9c8c21f0",
   "metadata": {
    "tags": []
   },
   "outputs": [
    {
     "ename": "SyntaxError",
     "evalue": "EOF while scanning triple-quoted string literal (717079331.py, line 88)",
     "output_type": "error",
     "traceback": [
      "\u001b[0;36m  Cell \u001b[0;32mIn[26], line 88\u001b[0;36m\u001b[0m\n\u001b[0;31m    \u001b[0m\n\u001b[0m    ^\u001b[0m\n\u001b[0;31mSyntaxError\u001b[0m\u001b[0;31m:\u001b[0m EOF while scanning triple-quoted string literal\n"
     ]
    }
   ],
   "source": [
    "import matplotlib.pyplot as plt\n",
    "import numpy as np\n",
    "\n",
    "Uniq = []\n",
    "Count = np.zeros(105)\n",
    "\n",
    "for i in range (len(Pred)):\n",
    "    if (not (Pred[i] in Uniq)):\n",
    "        Uniq.append(Pred[i])\n",
    "\n",
    "print (Uniq)\n",
    "print(len(Uniq))\n",
    "\n",
    "for i in range (len(Uniq)):\n",
    "    for j in range (len(Pred)):\n",
    "        if (Uniq[i] == Pred[j]):\n",
    "            Count[i] += 1\n",
    "print(Count)\n",
    "\n",
    "'''''''''''''''''''''''''''''''''\n",
    "random - resNet50_test1_weights_best_acc.tar\n",
    "13/18\n",
    "['1800000', 99.91690826416016, \n",
    "'1800000', 99.96708679199219, \n",
    "'1800000', 71.80213928222656, \n",
    "'1364159', 36.6276969909668, \n",
    "'1800000', 99.99506378173828, \n",
    "'1800000', 68.70320892333984, \n",
    "'1800000', 99.65731048583984, \n",
    "'1800000', 99.67155456542969, \n",
    "'1800000', 94.2257308959961, \n",
    "'1800000', 89.76100158691406, \n",
    "'1364159', 52.146263122558594, \n",
    "'1800000', 99.98167419433594, \n",
    "'1800000', 99.8161392211914, \n",
    "'1800000', 99.89634704589844, \n",
    "'1363227', 54.50818634033203, \n",
    "'1363227', 82.6557846069336, \n",
    "'1800000', 96.1822509765625, \n",
    "'1356781', 75.84005737304688]\n",
    "----------------------------------------\n",
    "random - resNet50_test2_weights_best_acc.tar\n",
    "12/18\n",
    "['1800000', 99.97615051269531, \n",
    "'1800000', 99.9912109375, \n",
    "'1800000', 99.99679565429688, \n",
    "'1363227', 99.07946014404297, \n",
    "'1800000', 99.99774932861328, \n",
    "'1394399', 41.81996154785156, \n",
    "'1800000', 97.62899017333984, \n",
    "'1800000', 99.85914611816406, \n",
    "'1800000', 99.96696472167969,\n",
    "'1800000', 97.76636505126953, \n",
    "'1800003', 46.119422912597656, \n",
    "'1800000', 99.77508544921875, \n",
    "'1800000', 99.99580383300781, \n",
    "'1800000', 99.85686492919922, \n",
    "'1800000', 93.0621109008789, \n",
    "'1363227', 99.9991455078125, \n",
    "'1374048', 50.328208923339844, \n",
    "'1356781', 84.22457122802734]\n",
    "`````````````````````````````````````\n",
    "random - resNet50_test3_weights_best_acc.tar\n",
    "10/18\n",
    "['1800000', 99.98400115966797, \n",
    "'1800000', 99.96367645263672, \n",
    "'1363227', 92.85599517822266, \n",
    "'1363227', 91.38976287841797, \n",
    "'1800000', 99.98163604736328, \n",
    "'1363227', 69.4761962890625, \n",
    "'1800000', 99.89826965332031, \n",
    "'1800000', 82.37076568603516, \n",
    "'1800000', 99.85641479492188, \n",
    "'1800000', 98.77933502197266, \n",
    "'1363227', 80.92121124267578, \n",
    "'1800000', 99.85176849365234, \n",
    "'1800000', 98.08155059814453, \n",
    "'1363227', 74.86663055419922, \n",
    "'1363227', 53.021507263183594, \n",
    "'1363227', 55.55775833129883, \n",
    "'1800000', 72.71721649169922, \n",
    "'1356781', 48.67862319946289]\n",
    "\n",
    "\n",
    "\n",
    "\n",
    "\n",
    "\n"
   ]
  },
  {
   "cell_type": "code",
   "execution_count": 10,
   "id": "98537783-7a7f-4d40-b059-22d07672eb41",
   "metadata": {
    "tags": []
   },
   "outputs": [],
   "source": [
    "import torch\n",
    "from torchvision import transforms\n",
    " \n",
    "preprocess = transforms.Compose([\n",
    "        transforms.Resize(256),\n",
    "        transforms.CenterCrop(224),\n",
    "        transforms.ToTensor(),\n",
    "        transforms.Normalize(\n",
    "        mean=[0.485, 0.456, 0.406],\n",
    "        std=[0.229, 0.224, 0.225]\n",
    "    )])\n",
    "\n",
    "img_ambr_preprocessed = preprocess(img_ambr)\n",
    "\n",
    "batch_img_ambr_tensor = torch.unsqueeze(img_ambr_preprocessed, 0)"
   ]
  },
  {
   "cell_type": "code",
   "execution_count": 6,
   "id": "bce65e24-0433-4f52-aadb-99085c0b0764",
   "metadata": {
    "tags": []
   },
   "outputs": [],
   "source": [
    "out = model(batch_img_ambr_tensor)"
   ]
  },
  {
   "cell_type": "code",
   "execution_count": 7,
   "id": "ea838557-f18c-441b-9edf-55397f3bfffe",
   "metadata": {
    "tags": []
   },
   "outputs": [],
   "source": [
    "# result = \"\"\n",
    "# with open('className.txt') as f:\n",
    "#     for line in f.readlines():\n",
    "#         result = line\n",
    "        \n",
    "# result = result.split(',')\n",
    "# print(type(result))\n",
    "# print(result)"
   ]
  },
  {
   "cell_type": "code",
   "execution_count": 8,
   "id": "ca615983-1a28-44e9-8431-1cd8be099bdd",
   "metadata": {
    "tags": []
   },
   "outputs": [
    {
     "data": {
      "text/plain": [
       "1081"
      ]
     },
     "execution_count": 8,
     "metadata": {},
     "output_type": "execute_result"
    }
   ],
   "source": [
    "len(result)"
   ]
  },
  {
   "cell_type": "code",
   "execution_count": 10,
   "id": "27009fc9-b0da-46d8-820d-8b48202b6e8d",
   "metadata": {
    "tags": []
   },
   "outputs": [
    {
     "name": "stdout",
     "output_type": "stream",
     "text": [
      "1398592 50.37586212158203\n"
     ]
    }
   ],
   "source": [
    "_, index = torch.max(out, 1)\n",
    "percentage = torch.nn.functional.softmax(out, dim=1)[0] * 100\n",
    "print(result[index[0]], percentage[index[0]].item())\n",
    "_, indices = torch.sort(out, descending=True)\n",
    "results = [(result[idx], percentage[idx].item()) for idx in indices[0][:5]]"
   ]
  },
  {
   "cell_type": "code",
   "execution_count": 11,
   "id": "8ce78011-bb38-4b70-888e-6396267cd711",
   "metadata": {
    "tags": []
   },
   "outputs": [
    {
     "name": "stdout",
     "output_type": "stream",
     "text": [
      "[('1398592', 50.37586212158203), ('1363227', 26.461944580078125), ('1355932', 9.147356986999512), ('1363128', 1.570244550704956), ('1358760', 1.560197114944458)]\n"
     ]
    }
   ],
   "source": [
    "print(results)"
   ]
  },
  {
   "cell_type": "code",
   "execution_count": 12,
   "id": "d097ef22-b457-4e00-b42b-0fde421476fa",
   "metadata": {
    "tags": []
   },
   "outputs": [],
   "source": [
    "import json\n",
    "\n",
    "with open('plantnet300K_species_id_2_name.json', 'r') as f:\n",
    "  data = json.load(f)\n",
    "\n",
    "# print(data)"
   ]
  },
  {
   "cell_type": "code",
   "execution_count": 13,
   "id": "b4745da5-def0-46ad-9bb3-201ae660e47a",
   "metadata": {
    "tags": []
   },
   "outputs": [
    {
     "name": "stdout",
     "output_type": "stream",
     "text": [
      "<class 'dict'>\n",
      "<class 'list'>\n",
      "5\n",
      "Perovskia atriplicifolia Benth. 50.37586212158203\n",
      "Daucus carota L. 26.461944580078125\n",
      "Pelargonium graveolens L'Hér. 9.147356986999512\n",
      "Papaver rhoeas L. 1.570244550704956\n",
      "Lavandula multifida L. 1.560197114944458\n"
     ]
    }
   ],
   "source": [
    "print(type(data))\n",
    "list_of_keys = data.keys()\n",
    "list_of_keys = list(list_of_keys)\n",
    "print(type(list_of_keys))\n",
    "\n",
    "print(len(results))\n",
    "\n",
    "for i in range(len(results)):\n",
    "    if results[i][0] in list_of_keys:\n",
    "        print(data[results[i][0]] + ' ' + str(results[i][1]))"
   ]
  }
 ],
 "metadata": {
  "kernelspec": {
   "display_name": "Python 3 (ipykernel)",
   "language": "python",
   "name": "python3"
  },
  "language_info": {
   "codemirror_mode": {
    "name": "ipython",
    "version": 3
   },
   "file_extension": ".py",
   "mimetype": "text/x-python",
   "name": "python",
   "nbconvert_exporter": "python",
   "pygments_lexer": "ipython3",
   "version": "3.8.10"
  }
 },
 "nbformat": 4,
 "nbformat_minor": 5
}
